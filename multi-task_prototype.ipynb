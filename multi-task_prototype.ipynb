{
 "cells": [
  {
   "cell_type": "code",
   "execution_count": 2,
   "metadata": {},
   "outputs": [],
   "source": [
    "import numpy as np\n",
    "from skimage import morphology, io\n",
    "from scipy.ndimage import binary_dilation, binary_erosion\n",
    "from joblib import Parallel, delayed\n",
    "\n",
    "\n",
    "def add_protective_round(array, border_size):\n",
    "    # Calculate the new dimensions for the protective round\n",
    "    new_shape = tuple(np.array(array.shape) + 2 * border_size)\n",
    "\n",
    "    # Create a new array with zeros and the new dimensions\n",
    "    protected_array = np.zeros(new_shape, dtype=array.dtype)\n",
    "\n",
    "    # Copy the original array into the new array, leaving a border of zeros\n",
    "    protected_array[border_size:-border_size, border_size:-border_size, border_size:-border_size] = array\n",
    "\n",
    "    return protected_array\n",
    "\n",
    "\n",
    "def remove_protective_round(protected_array, border_size):\n",
    "    # Extract the central region of the array, excluding the protective round border\n",
    "    processed_array = protected_array[border_size:-border_size, border_size:-border_size, border_size:-border_size]\n",
    "\n",
    "    return processed_array\n",
    "\n",
    "\n",
    "def process_label(image, label, selem, iterations, border_size):\n",
    "    # Find the indices of the label in the array\n",
    "    indices = np.argwhere(image == label)\n",
    "\n",
    "    # Determine the bounding box of the region\n",
    "    min_z, min_y, min_x = np.min(indices, axis=0)\n",
    "    max_z, max_y, max_x = np.max(indices, axis=0)\n",
    "\n",
    "    # Crop the array to include only the region of interest\n",
    "    cropped_binary_array = image[min_z:max_z+1, min_y:max_y+1, min_x:max_x+1] == label\n",
    "    protected_array = add_protective_round(cropped_binary_array, border_size=border_size)\n",
    "\n",
    "    # Perform dilation and erosion on the cropped region\n",
    "    dilated_region = binary_dilation(protected_array, iterations=iterations, structure=selem)\n",
    "    eroded_region = binary_erosion(dilated_region, iterations=iterations, structure=selem)\n",
    "    remove_protect_array = remove_protective_round(eroded_region, border_size=border_size)\n",
    "    print(label)\n",
    "    return (label, (min_z, max_z, min_y, max_y, min_x, max_x), remove_protect_array)\n",
    "\n",
    "\n",
    "def perform_dilation_erosion(image, kernel_size=9, iterations=1, border_size=10):\n",
    "    # Initialize an empty result array\n",
    "    result = np.zeros_like(image)\n",
    "\n",
    "    unique_labels = np.unique(image)\n",
    "\n",
    "    print('total_round:', len(unique_labels))\n",
    "\n",
    "    selem = morphology.ball(kernel_size)\n",
    "    # Perform processing in parallel\n",
    "    processed_regions = Parallel(n_jobs=-1)(\n",
    "        delayed(process_label)(image, label, selem, iterations, border_size)\n",
    "        for label in unique_labels if label != 0\n",
    "    )\n",
    "\n",
    "    # Update the result array with the processed regions\n",
    "    for label, (min_z, max_z, min_y, max_y, min_x, max_x), remove_protect_array in processed_regions:\n",
    "        result[min_z:max_z+1, min_y:max_y+1, min_x:max_x+1][remove_protect_array] = label\n",
    "\n",
    "    return result\n"
   ]
  },
  {
   "cell_type": "code",
   "execution_count": 3,
   "metadata": {},
   "outputs": [],
   "source": [
    "# Example usage\n",
    "input_file = \"./dataset/CTX_3_DAPI_notile_0423_predict.tif\"\n",
    "output_file = \"./results/filled_gap_CTX_3_DAPI_notile_0423_predict.tif\"\n",
    "\n",
    "# Load the 3D TIFF image\n",
    "image = io.imread(input_file)"
   ]
  },
  {
   "cell_type": "code",
   "execution_count": null,
   "metadata": {},
   "outputs": [],
   "source": [
    "# Perform dilation and erosion on the specified label in a small region\n",
    "result = perform_dilation_erosion(image, kernel_size=12, iterations=1, border_size=20)\n",
    "\n",
    "io.imsave(output_file, result)"
   ]
  }
 ],
 "metadata": {
  "kernelspec": {
   "display_name": "image_process",
   "language": "python",
   "name": "python3"
  },
  "language_info": {
   "codemirror_mode": {
    "name": "ipython",
    "version": 3
   },
   "file_extension": ".py",
   "mimetype": "text/x-python",
   "name": "python",
   "nbconvert_exporter": "python",
   "pygments_lexer": "ipython3",
   "version": "3.10.11"
  },
  "orig_nbformat": 4
 },
 "nbformat": 4,
 "nbformat_minor": 2
}
